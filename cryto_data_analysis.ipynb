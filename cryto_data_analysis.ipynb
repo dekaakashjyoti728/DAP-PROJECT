{
 "cells": [
  {
   "cell_type": "code",
   "execution_count": 1,
   "id": "577321a6",
   "metadata": {},
   "outputs": [],
   "source": [
    "import pandas as pd"
   ]
  },
  {
   "cell_type": "code",
   "execution_count": 2,
   "id": "626adc45",
   "metadata": {},
   "outputs": [
    {
     "data": {
      "text/html": [
       "<div>\n",
       "<style scoped>\n",
       "    .dataframe tbody tr th:only-of-type {\n",
       "        vertical-align: middle;\n",
       "    }\n",
       "\n",
       "    .dataframe tbody tr th {\n",
       "        vertical-align: top;\n",
       "    }\n",
       "\n",
       "    .dataframe thead th {\n",
       "        text-align: right;\n",
       "    }\n",
       "</style>\n",
       "<table border=\"1\" class=\"dataframe\">\n",
       "  <thead>\n",
       "    <tr style=\"text-align: right;\">\n",
       "      <th></th>\n",
       "      <th>id</th>\n",
       "      <th>symbol</th>\n",
       "      <th>name</th>\n",
       "      <th>image</th>\n",
       "      <th>current_price</th>\n",
       "      <th>market_cap</th>\n",
       "      <th>market_cap_rank</th>\n",
       "      <th>fully_diluted_valuation</th>\n",
       "      <th>total_volume</th>\n",
       "      <th>high_24h</th>\n",
       "      <th>...</th>\n",
       "      <th>total_supply</th>\n",
       "      <th>max_supply</th>\n",
       "      <th>ath</th>\n",
       "      <th>ath_change_percentage</th>\n",
       "      <th>ath_date</th>\n",
       "      <th>atl</th>\n",
       "      <th>atl_change_percentage</th>\n",
       "      <th>atl_date</th>\n",
       "      <th>roi</th>\n",
       "      <th>last_updated</th>\n",
       "    </tr>\n",
       "  </thead>\n",
       "  <tbody>\n",
       "    <tr>\n",
       "      <th>0</th>\n",
       "      <td>bitcoin</td>\n",
       "      <td>btc</td>\n",
       "      <td>Bitcoin</td>\n",
       "      <td>https://assets.coingecko.com/coins/images/1/la...</td>\n",
       "      <td>24364.000000</td>\n",
       "      <td>4.745209e+11</td>\n",
       "      <td>1.0</td>\n",
       "      <td>5.119166e+11</td>\n",
       "      <td>1.624614e+10</td>\n",
       "      <td>24433.000000</td>\n",
       "      <td>...</td>\n",
       "      <td>2.100000e+07</td>\n",
       "      <td>2.100000e+07</td>\n",
       "      <td>59717.00</td>\n",
       "      <td>-59.18370</td>\n",
       "      <td>2021-11-10T14:24:11.849Z</td>\n",
       "      <td>51.300000</td>\n",
       "      <td>47414.53965</td>\n",
       "      <td>2013-07-05T00:00:00.000Z</td>\n",
       "      <td>NaN</td>\n",
       "      <td>2023-08-23T18:42:47.046Z</td>\n",
       "    </tr>\n",
       "    <tr>\n",
       "      <th>1</th>\n",
       "      <td>ethereum</td>\n",
       "      <td>eth</td>\n",
       "      <td>Ethereum</td>\n",
       "      <td>https://assets.coingecko.com/coins/images/279/...</td>\n",
       "      <td>1546.270000</td>\n",
       "      <td>1.859876e+11</td>\n",
       "      <td>2.0</td>\n",
       "      <td>1.859876e+11</td>\n",
       "      <td>1.187268e+10</td>\n",
       "      <td>1553.380000</td>\n",
       "      <td>...</td>\n",
       "      <td>1.202143e+08</td>\n",
       "      <td>NaN</td>\n",
       "      <td>4228.93</td>\n",
       "      <td>-63.42011</td>\n",
       "      <td>2021-12-01T08:38:24.623Z</td>\n",
       "      <td>0.381455</td>\n",
       "      <td>405435.72792</td>\n",
       "      <td>2015-10-20T00:00:00.000Z</td>\n",
       "      <td>{'times': 83.84405195701511, 'currency': 'btc'...</td>\n",
       "      <td>2023-08-23T18:42:50.617Z</td>\n",
       "    </tr>\n",
       "    <tr>\n",
       "      <th>2</th>\n",
       "      <td>tether</td>\n",
       "      <td>usdt</td>\n",
       "      <td>Tether</td>\n",
       "      <td>https://assets.coingecko.com/coins/images/325/...</td>\n",
       "      <td>0.920031</td>\n",
       "      <td>7.622065e+10</td>\n",
       "      <td>3.0</td>\n",
       "      <td>7.622065e+10</td>\n",
       "      <td>1.414680e+10</td>\n",
       "      <td>0.926721</td>\n",
       "      <td>...</td>\n",
       "      <td>8.284578e+10</td>\n",
       "      <td>NaN</td>\n",
       "      <td>1.13</td>\n",
       "      <td>-18.69647</td>\n",
       "      <td>2018-07-24T00:00:00.000Z</td>\n",
       "      <td>0.533096</td>\n",
       "      <td>72.58266</td>\n",
       "      <td>2015-03-02T00:00:00.000Z</td>\n",
       "      <td>NaN</td>\n",
       "      <td>2023-08-23T18:40:00.329Z</td>\n",
       "    </tr>\n",
       "    <tr>\n",
       "      <th>3</th>\n",
       "      <td>binancecoin</td>\n",
       "      <td>bnb</td>\n",
       "      <td>BNB</td>\n",
       "      <td>https://assets.coingecko.com/coins/images/825/...</td>\n",
       "      <td>199.990000</td>\n",
       "      <td>3.077853e+10</td>\n",
       "      <td>4.0</td>\n",
       "      <td>4.000949e+10</td>\n",
       "      <td>6.612592e+08</td>\n",
       "      <td>200.630000</td>\n",
       "      <td>...</td>\n",
       "      <td>1.538562e+08</td>\n",
       "      <td>2.000000e+08</td>\n",
       "      <td>583.17</td>\n",
       "      <td>-65.70086</td>\n",
       "      <td>2021-11-26T02:58:28.000Z</td>\n",
       "      <td>0.033599</td>\n",
       "      <td>595218.98232</td>\n",
       "      <td>2017-10-19T00:00:00.000Z</td>\n",
       "      <td>NaN</td>\n",
       "      <td>2023-08-23T18:42:50.796Z</td>\n",
       "    </tr>\n",
       "    <tr>\n",
       "      <th>4</th>\n",
       "      <td>ripple</td>\n",
       "      <td>xrp</td>\n",
       "      <td>XRP</td>\n",
       "      <td>https://assets.coingecko.com/coins/images/44/l...</td>\n",
       "      <td>0.486917</td>\n",
       "      <td>2.577040e+10</td>\n",
       "      <td>5.0</td>\n",
       "      <td>4.870225e+10</td>\n",
       "      <td>9.332927e+08</td>\n",
       "      <td>0.491048</td>\n",
       "      <td>...</td>\n",
       "      <td>9.998849e+10</td>\n",
       "      <td>1.000000e+11</td>\n",
       "      <td>2.82</td>\n",
       "      <td>-82.74995</td>\n",
       "      <td>2018-01-07T00:00:00.000Z</td>\n",
       "      <td>0.001946</td>\n",
       "      <td>24921.86548</td>\n",
       "      <td>2013-08-16T00:00:00.000Z</td>\n",
       "      <td>NaN</td>\n",
       "      <td>2023-08-23T18:42:47.909Z</td>\n",
       "    </tr>\n",
       "  </tbody>\n",
       "</table>\n",
       "<p>5 rows × 26 columns</p>\n",
       "</div>"
      ],
      "text/plain": [
       "            id symbol      name  \\\n",
       "0      bitcoin    btc   Bitcoin   \n",
       "1     ethereum    eth  Ethereum   \n",
       "2       tether   usdt    Tether   \n",
       "3  binancecoin    bnb       BNB   \n",
       "4       ripple    xrp       XRP   \n",
       "\n",
       "                                               image  current_price  \\\n",
       "0  https://assets.coingecko.com/coins/images/1/la...   24364.000000   \n",
       "1  https://assets.coingecko.com/coins/images/279/...    1546.270000   \n",
       "2  https://assets.coingecko.com/coins/images/325/...       0.920031   \n",
       "3  https://assets.coingecko.com/coins/images/825/...     199.990000   \n",
       "4  https://assets.coingecko.com/coins/images/44/l...       0.486917   \n",
       "\n",
       "     market_cap  market_cap_rank  fully_diluted_valuation  total_volume  \\\n",
       "0  4.745209e+11              1.0             5.119166e+11  1.624614e+10   \n",
       "1  1.859876e+11              2.0             1.859876e+11  1.187268e+10   \n",
       "2  7.622065e+10              3.0             7.622065e+10  1.414680e+10   \n",
       "3  3.077853e+10              4.0             4.000949e+10  6.612592e+08   \n",
       "4  2.577040e+10              5.0             4.870225e+10  9.332927e+08   \n",
       "\n",
       "       high_24h  ...  total_supply    max_supply       ath  \\\n",
       "0  24433.000000  ...  2.100000e+07  2.100000e+07  59717.00   \n",
       "1   1553.380000  ...  1.202143e+08           NaN   4228.93   \n",
       "2      0.926721  ...  8.284578e+10           NaN      1.13   \n",
       "3    200.630000  ...  1.538562e+08  2.000000e+08    583.17   \n",
       "4      0.491048  ...  9.998849e+10  1.000000e+11      2.82   \n",
       "\n",
       "   ath_change_percentage                  ath_date        atl  \\\n",
       "0              -59.18370  2021-11-10T14:24:11.849Z  51.300000   \n",
       "1              -63.42011  2021-12-01T08:38:24.623Z   0.381455   \n",
       "2              -18.69647  2018-07-24T00:00:00.000Z   0.533096   \n",
       "3              -65.70086  2021-11-26T02:58:28.000Z   0.033599   \n",
       "4              -82.74995  2018-01-07T00:00:00.000Z   0.001946   \n",
       "\n",
       "   atl_change_percentage                  atl_date  \\\n",
       "0            47414.53965  2013-07-05T00:00:00.000Z   \n",
       "1           405435.72792  2015-10-20T00:00:00.000Z   \n",
       "2               72.58266  2015-03-02T00:00:00.000Z   \n",
       "3           595218.98232  2017-10-19T00:00:00.000Z   \n",
       "4            24921.86548  2013-08-16T00:00:00.000Z   \n",
       "\n",
       "                                                 roi              last_updated  \n",
       "0                                                NaN  2023-08-23T18:42:47.046Z  \n",
       "1  {'times': 83.84405195701511, 'currency': 'btc'...  2023-08-23T18:42:50.617Z  \n",
       "2                                                NaN  2023-08-23T18:40:00.329Z  \n",
       "3                                                NaN  2023-08-23T18:42:50.796Z  \n",
       "4                                                NaN  2023-08-23T18:42:47.909Z  \n",
       "\n",
       "[5 rows x 26 columns]"
      ]
     },
     "execution_count": 2,
     "metadata": {},
     "output_type": "execute_result"
    }
   ],
   "source": [
    "df=pd.read_csv('all_crypto_data.csv')\n",
    "df.head()"
   ]
  },
  {
   "cell_type": "code",
   "execution_count": 7,
   "id": "a3528995",
   "metadata": {},
   "outputs": [
    {
     "data": {
      "text/plain": [
       "<Axes: >"
      ]
     },
     "execution_count": 7,
     "metadata": {},
     "output_type": "execute_result"
    },
    {
     "data": {
      "image/png": "[encoded data removed]",
      "text/plain": [
       "<Figure size 640x480 with 1 Axes>"
      ]
     },
     "metadata": {},
     "output_type": "display_data"
    }
   ],
   "source": [
    "df.plot()"
   ]
  },
  {
   "cell_type": "code",
   "execution_count": 8,
   "id": "8d9bcd34",
   "metadata": {},
   "outputs": [
    {
     "data": {
      "text/plain": [
       "<bound method NDFrame._add_numeric_operations.<locals>.std of 0                   Bitcoin\n",
       "1                  Ethereum\n",
       "2                    Tether\n",
       "3                       BNB\n",
       "4                       XRP\n",
       "                ...        \n",
       "10145            Cola Token\n",
       "10146                 Fiero\n",
       "10147           AmpliFi DAO\n",
       "10148                  Ayin\n",
       "10149    Collateral Network\n",
       "Name: name, Length: 10150, dtype: object>"
      ]
     },
     "execution_count": 8,
     "metadata": {},
     "output_type": "execute_result"
    }
   ],
   "source": [
    "df['name'].std"
   ]
  },
  {
   "cell_type": "code",
   "execution_count": 9,
   "id": "293542fc",
   "metadata": {},
   "outputs": [
    {
     "data": {
      "text/plain": [
       "(10150, 26)"
      ]
     },
     "execution_count": 9,
     "metadata": {},
     "output_type": "execute_result"
    }
   ],
   "source": [
    "df.shape"
   ]
  },
  {
   "cell_type": "code",
   "execution_count": 10,
   "id": "17c3d9e8",
   "metadata": {},
   "outputs": [
    {
     "data": {
      "text/plain": [
       "id                                     0\n",
       "symbol                                 0\n",
       "name                                   0\n",
       "image                                  0\n",
       "current_price                        403\n",
       "market_cap                           458\n",
       "market_cap_rank                     6501\n",
       "fully_diluted_valuation             1359\n",
       "total_volume                         521\n",
       "high_24h                            3041\n",
       "low_24h                             3041\n",
       "price_change_24h                    3041\n",
       "price_change_percentage_24h         3041\n",
       "market_cap_change_24h               3040\n",
       "market_cap_change_percentage_24h    3040\n",
       "circulating_supply                   458\n",
       "total_supply                        1127\n",
       "max_supply                          4637\n",
       "ath                                  460\n",
       "ath_change_percentage                  0\n",
       "ath_date                             460\n",
       "atl                                  460\n",
       "atl_change_percentage                  0\n",
       "atl_date                             460\n",
       "roi                                 9767\n",
       "last_updated                         381\n",
       "dtype: int64"
      ]
     },
     "execution_count": 10,
     "metadata": {},
     "output_type": "execute_result"
    }
   ],
   "source": [
    "df.isnull().sum()"
   ]
  },
  {
   "cell_type": "code",
   "execution_count": 11,
   "id": "4cf9180a",
   "metadata": {},
   "outputs": [
    {
     "name": "stdout",
     "output_type": "stream",
     "text": [
      "            id symbol      name  \\\n",
      "0      bitcoin    btc   Bitcoin   \n",
      "1     ethereum    eth  Ethereum   \n",
      "2       tether   usdt    Tether   \n",
      "3  binancecoin    bnb       BNB   \n",
      "4       ripple    xrp       XRP   \n",
      "\n",
      "                                               image  current_price  \\\n",
      "0  https://assets.coingecko.com/coins/images/1/la...   24364.000000   \n",
      "1  https://assets.coingecko.com/coins/images/279/...    1546.270000   \n",
      "2  https://assets.coingecko.com/coins/images/325/...       0.920031   \n",
      "3  https://assets.coingecko.com/coins/images/825/...     199.990000   \n",
      "4  https://assets.coingecko.com/coins/images/44/l...       0.486917   \n",
      "\n",
      "     market_cap  market_cap_rank  fully_diluted_valuation  total_volume  \\\n",
      "0  4.745209e+11              1.0             5.119166e+11  1.624614e+10   \n",
      "1  1.859876e+11              2.0             1.859876e+11  1.187268e+10   \n",
      "2  7.622065e+10              3.0             7.622065e+10  1.414680e+10   \n",
      "3  3.077853e+10              4.0             4.000949e+10  6.612592e+08   \n",
      "4  2.577040e+10              5.0             4.870225e+10  9.332927e+08   \n",
      "\n",
      "       high_24h  ...  total_supply    max_supply       ath  \\\n",
      "0  24433.000000  ...  2.100000e+07  2.100000e+07  59717.00   \n",
      "1   1553.380000  ...  1.202143e+08           NaN   4228.93   \n",
      "2      0.926721  ...  8.284578e+10           NaN      1.13   \n",
      "3    200.630000  ...  1.538562e+08  2.000000e+08    583.17   \n",
      "4      0.491048  ...  9.998849e+10  1.000000e+11      2.82   \n",
      "\n",
      "   ath_change_percentage                  ath_date        atl  \\\n",
      "0              -59.18370  2021-11-10T14:24:11.849Z  51.300000   \n",
      "1              -63.42011  2021-12-01T08:38:24.623Z   0.381455   \n",
      "2              -18.69647  2018-07-24T00:00:00.000Z   0.533096   \n",
      "3              -65.70086  2021-11-26T02:58:28.000Z   0.033599   \n",
      "4              -82.74995  2018-01-07T00:00:00.000Z   0.001946   \n",
      "\n",
      "   atl_change_percentage                  atl_date  \\\n",
      "0            47414.53965  2013-07-05T00:00:00.000Z   \n",
      "1           405435.72792  2015-10-20T00:00:00.000Z   \n",
      "2               72.58266  2015-03-02T00:00:00.000Z   \n",
      "3           595218.98232  2017-10-19T00:00:00.000Z   \n",
      "4            24921.86548  2013-08-16T00:00:00.000Z   \n",
      "\n",
      "                                                 roi              last_updated  \n",
      "0                                                NaN  2023-08-23T18:42:47.046Z  \n",
      "1  {'times': 83.84405195701511, 'currency': 'btc'...  2023-08-23T18:42:50.617Z  \n",
      "2                                                NaN  2023-08-23T18:40:00.329Z  \n",
      "3                                                NaN  2023-08-23T18:42:50.796Z  \n",
      "4                                                NaN  2023-08-23T18:42:47.909Z  \n",
      "\n",
      "[5 rows x 26 columns]\n"
     ]
    }
   ],
   "source": [
    "print(df.head())"
   ]
  },
  {
   "cell_type": "code",
   "execution_count": 19,
   "id": "584e8006",
   "metadata": {},
   "outputs": [
    {
     "data": {
      "text/plain": [
       "<bound method NDFrame._add_numeric_operations.<locals>.max of 0                   Bitcoin\n",
       "1                  Ethereum\n",
       "2                    Tether\n",
       "3                       BNB\n",
       "4                       XRP\n",
       "                ...        \n",
       "10145            Cola Token\n",
       "10146                 Fiero\n",
       "10147           AmpliFi DAO\n",
       "10148                  Ayin\n",
       "10149    Collateral Network\n",
       "Name: name, Length: 10150, dtype: object>"
      ]
     },
     "execution_count": 19,
     "metadata": {},
     "output_type": "execute_result"
    }
   ],
   "source": [
    "df['name'].max"
   ]
  },
  {
   "cell_type": "code",
   "execution_count": 24,
   "id": "f3b90e4c",
   "metadata": {},
   "outputs": [
    {
     "name": "stdout",
     "output_type": "stream",
     "text": [
      "                       id symbol                name  \\\n",
      "10145        cola-token-2   cola          Cola Token   \n",
      "10146               fiero  fiero               Fiero   \n",
      "10147         amplifi-dao    agg         AmpliFi DAO   \n",
      "10148                ayin   ayin                Ayin   \n",
      "10149  collateral-network   colt  Collateral Network   \n",
      "\n",
      "                                                   image  current_price  \\\n",
      "10145  https://assets.coingecko.com/coins/images/3093...            NaN   \n",
      "10146  https://assets.coingecko.com/coins/images/3036...            NaN   \n",
      "10147  https://assets.coingecko.com/coins/images/2913...            NaN   \n",
      "10148  https://assets.coingecko.com/coins/images/3131...            NaN   \n",
      "10149  https://assets.coingecko.com/coins/images/2977...            NaN   \n",
      "\n",
      "       market_cap  market_cap_rank  fully_diluted_valuation  total_volume  \\\n",
      "10145         NaN              NaN                      NaN           NaN   \n",
      "10146         NaN              NaN                      NaN           NaN   \n",
      "10147         NaN              NaN                      NaN           NaN   \n",
      "10148         NaN              NaN                      NaN           NaN   \n",
      "10149         NaN              NaN                      NaN           NaN   \n",
      "\n",
      "       high_24h  ...  total_supply    max_supply  ath  ath_change_percentage  \\\n",
      "10145       NaN  ...           NaN           NaN  NaN                    0.0   \n",
      "10146       NaN  ...           NaN           NaN  NaN                    0.0   \n",
      "10147       NaN  ...  3.000000e+09           NaN  NaN                    0.0   \n",
      "10148       NaN  ...  1.924590e+05  4.000000e+06  NaN                    0.0   \n",
      "10149       NaN  ...  1.400000e+09  1.400000e+09  NaN                    0.0   \n",
      "\n",
      "       ath_date  atl  atl_change_percentage  atl_date  roi  last_updated  \n",
      "10145       NaN  NaN                    0.0       NaN  NaN           NaN  \n",
      "10146       NaN  NaN                    0.0       NaN  NaN           NaN  \n",
      "10147       NaN  NaN                    0.0       NaN  NaN           NaN  \n",
      "10148       NaN  NaN                    0.0       NaN  NaN           NaN  \n",
      "10149       NaN  NaN                    0.0       NaN  NaN           NaN  \n",
      "\n",
      "[5 rows x 26 columns]\n"
     ]
    }
   ],
   "source": [
    "print(df.tail())"
   ]
  },
  {
   "cell_type": "code",
   "execution_count": 25,
   "id": "7e57e9df",
   "metadata": {
    "scrolled": false
   },
   "outputs": [
    {
     "name": "stdout",
     "output_type": "stream",
     "text": [
      "<class 'pandas.core.frame.DataFrame'>\n",
      "RangeIndex: 10150 entries, 0 to 10149\n",
      "Data columns (total 26 columns):\n",
      " #   Column                            Non-Null Count  Dtype  \n",
      "---  ------                            --------------  -----  \n",
      " 0   id                                10150 non-null  object \n",
      " 1   symbol                            10150 non-null  object \n",
      " 2   name                              10150 non-null  object \n",
      " 3   image                             10150 non-null  object \n",
      " 4   current_price                     9747 non-null   float64\n",
      " 5   market_cap                        9692 non-null   float64\n",
      " 6   market_cap_rank                   3649 non-null   float64\n",
      " 7   fully_diluted_valuation           8791 non-null   float64\n",
      " 8   total_volume                      9629 non-null   float64\n",
      " 9   high_24h                          7109 non-null   float64\n",
      " 10  low_24h                           7109 non-null   float64\n",
      " 11  price_change_24h                  7109 non-null   float64\n",
      " 12  price_change_percentage_24h       7109 non-null   float64\n",
      " 13  market_cap_change_24h             7110 non-null   float64\n",
      " 14  market_cap_change_percentage_24h  7110 non-null   float64\n",
      " 15  circulating_supply                9692 non-null   float64\n",
      " 16  total_supply                      9023 non-null   float64\n",
      " 17  max_supply                        5513 non-null   float64\n",
      " 18  ath                               9690 non-null   float64\n",
      " 19  ath_change_percentage             10150 non-null  float64\n",
      " 20  ath_date                          9690 non-null   object \n",
      " 21  atl                               9690 non-null   float64\n",
      " 22  atl_change_percentage             10150 non-null  float64\n",
      " 23  atl_date                          9690 non-null   object \n",
      " 24  roi                               383 non-null    object \n",
      " 25  last_updated                      9769 non-null   object \n",
      "dtypes: float64(18), object(8)\n",
      "memory usage: 2.0+ MB\n",
      "None\n"
     ]
    }
   ],
   "source": [
    "print(df.info())"
   ]
  },
  {
   "cell_type": "code",
   "execution_count": null,
   "id": "15852bfa",
   "metadata": {},
   "outputs": [],
   "source": []
  }
 ],
 "metadata": {
  "kernelspec": {
   "display_name": "Python 3 (ipykernel)",
   "language": "python",
   "name": "python3"
  },
  "language_info": {
   "codemirror_mode": {
    "name": "ipython",
    "version": 3
   },
   "file_extension": ".py",
   "mimetype": "text/x-python",
   "name": "python",
   "nbconvert_exporter": "python",
   "pygments_lexer": "ipython3",
   "version": "3.11.5"
  }
 },
 "nbformat": 4,
 "nbformat_minor": 5
}
